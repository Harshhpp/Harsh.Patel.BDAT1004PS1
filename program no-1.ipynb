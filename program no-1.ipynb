{
 "cells": [
  {
   "cell_type": "code",
   "execution_count": 6,
   "id": "f978771b",
   "metadata": {},
   "outputs": [
    {
     "name": "stdout",
     "output_type": "stream",
     "text": [
      "5.0\n",
      "1.3333333333333333\n"
     ]
    }
   ],
   "source": [
    "class Point:\n",
    "    def __init__(self, a=0, b=0):\n",
    "        self.a = a\n",
    "        self.b = b\n",
    "\n",
    "class Segment:\n",
    "    def __init__(self, s_point, e_point):  #s_point=starting point and e_point=ending point\n",
    "        self.s_point = s_point\n",
    "        self.e_point = e_point\n",
    "\n",
    "    def length(self):\n",
    "        return ((self.e_point.a - self.s_point.a) ** 2 + (self.e_point.b - self.s_point.b) ** 2) ** 0.5\n",
    "\n",
    "    def slope(self):\n",
    "        if self.e_point.a - self.s_point.a == 0:\n",
    "            return None\n",
    "        return (self.e_point.b - self.s_point.b) / (self.e_point.a - self.s_point.a)\n",
    "\n",
    "\n",
    "p1 = Point(3, 4)\n",
    "p2 = Point()\n",
    "s = Segment(p1, p2)\n",
    "\n",
    "print(s.length()) \n",
    "print(s.slope())  \n"
   ]
  },
  {
   "cell_type": "code",
   "execution_count": null,
   "id": "f4c49986",
   "metadata": {},
   "outputs": [],
   "source": []
  }
 ],
 "metadata": {
  "kernelspec": {
   "display_name": "Python 3 (ipykernel)",
   "language": "python",
   "name": "python3"
  },
  "language_info": {
   "codemirror_mode": {
    "name": "ipython",
    "version": 3
   },
   "file_extension": ".py",
   "mimetype": "text/x-python",
   "name": "python",
   "nbconvert_exporter": "python",
   "pygments_lexer": "ipython3",
   "version": "3.11.4"
  }
 },
 "nbformat": 4,
 "nbformat_minor": 5
}
