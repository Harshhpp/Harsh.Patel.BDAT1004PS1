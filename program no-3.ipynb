{
 "cells": [
  {
   "cell_type": "code",
   "execution_count": 18,
   "id": "2067d426",
   "metadata": {},
   "outputs": [
    {
     "name": "stdout",
     "output_type": "stream",
     "text": [
      "*\n",
      "*\n",
      "**\n",
      " *\n",
      "****\n",
      " **\n",
      "  *\n"
     ]
    }
   ],
   "source": [
    "def tough(indent, stars):\n",
    "    if stars <= 0:\n",
    "        if stars == 0:  # To handle the case tough(0, 1)\n",
    "            print(' ' * indent + '*')\n",
    "        return\n",
    "\n",
    "    line = \" \" * indent + \"*\" * stars\n",
    "    print(line)\n",
    "\n",
    "    tough(indent + 1, stars - 2)\n",
    "\n",
    "# Example usage\n",
    "tough(0, 0)  \n",
    "tough(0, 1)  \n",
    "tough(0, 2)  \n",
    "                                   \n",
    "tough(0, 4)  "
   ]
  },
  {
   "cell_type": "code",
   "execution_count": null,
   "id": "706aa98c",
   "metadata": {},
   "outputs": [],
   "source": []
  }
 ],
 "metadata": {
  "kernelspec": {
   "display_name": "Python 3 (ipykernel)",
   "language": "python",
   "name": "python3"
  },
  "language_info": {
   "codemirror_mode": {
    "name": "ipython",
    "version": 3
   },
   "file_extension": ".py",
   "mimetype": "text/x-python",
   "name": "python",
   "nbconvert_exporter": "python",
   "pygments_lexer": "ipython3",
   "version": "3.11.4"
  }
 },
 "nbformat": 4,
 "nbformat_minor": 5
}
