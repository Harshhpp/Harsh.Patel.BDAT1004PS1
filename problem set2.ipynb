{
 "cells": [
  {
   "cell_type": "markdown",
   "id": "ea1da86f",
   "metadata": {},
   "source": [
    "Question 1"
   ]
  },
  {
   "cell_type": "code",
   "execution_count": 1,
   "id": "0f50f1c3",
   "metadata": {},
   "outputs": [
    {
     "name": "stdout",
     "output_type": "stream",
     "text": [
      "6\n"
     ]
    }
   ],
   "source": [
    "a = 0\n",
    "\n",
    "def b():\n",
    "     global a\n",
    "     a = c(a)\n",
    "    \n",
    "def c(a):\n",
    "    return a + 2\n",
    "\n",
    "b()\n",
    "b()\n",
    "b()\n",
    "\n",
    "print(a)"
   ]
  },
  {
   "cell_type": "markdown",
   "id": "d57539b6",
   "metadata": {},
   "source": [
    "The first fuction b() update global variable calling 'a', and that returns 0+2=2,hence that global variable 'a' is changed by '2'.\n",
    "Same as second function b() update global variable 'a' again which returns 2+2=4, and third function b() changed global variable 'a' that returns 4+2=6\n",
    "Now the value of a=6 because it has beeen updated three times with b()"
   ]
  },
  {
   "cell_type": "markdown",
   "id": "c63715b1",
   "metadata": {},
   "source": [
    "Question 2\n",
    "Function fileLength(), given to you, takes the name of a file as input and returnsthe length of the file:"
   ]
  },
  {
   "cell_type": "code",
   "execution_count": 10,
   "id": "5b78a486",
   "metadata": {},
   "outputs": [],
   "source": [
    "def fileLength(filename):\n",
    "    try:\n",
    "        with open(filename, 'r') as infile:\n",
    "            contents = infile.read()\n",
    "            length = len(contents)\n",
    "            print(length)\n",
    "    except FileNotFoundError:\n",
    "        print(f\"File {filename} not found.\")\n"
   ]
  },
  {
   "cell_type": "markdown",
   "id": "ff814376",
   "metadata": {},
   "source": [
    "Question 3"
   ]
  },
  {
   "cell_type": "code",
   "execution_count": 12,
   "id": "61750f5e",
   "metadata": {},
   "outputs": [
    {
     "name": "stdout",
     "output_type": "stream",
     "text": [
      "['doll', 'firetruck', 'kitten']\n",
      "I am a Kangaroo located at coordinates (0,0)\n",
      "['doll', 'firetruck', 'kitten']\n",
      "I am a Kangaroo located at coordinates (3,0)\n"
     ]
    }
   ],
   "source": [
    "class Marsupial:\n",
    "    def __init__(self):\n",
    "        self.pouch = []\n",
    "\n",
    "    def put_in_pouch(self, item):\n",
    "        self.pouch.append(item)\n",
    "\n",
    "    def pouch_contents(self):\n",
    "        return self.pouch\n",
    "\n",
    "class Kangaroo(Marsupial):\n",
    "    def __init__(self, a, b):\n",
    "        super().__init__()\n",
    "        self.a = a\n",
    "        self.b = b\n",
    "\n",
    "    def jump(self, da, db):\n",
    "        self.a += da\n",
    "        self.b += db\n",
    "\n",
    "    def __str__(self):\n",
    "        return f\"I am a Kangaroo located at coordinates ({self.a},{self.b})\"\n",
    "\n",
    "\n",
    "m = Marsupial()\n",
    "m.put_in_pouch('doll')\n",
    "m.put_in_pouch('firetruck')\n",
    "m.put_in_pouch('kitten')\n",
    "print(m.pouch_contents())\n",
    "\n",
    "k = Kangaroo(0, 0)\n",
    "print(k)\n",
    "k.put_in_pouch('doll')\n",
    "k.put_in_pouch('firetruck')\n",
    "k.put_in_pouch('kitten')\n",
    "print(k.pouch_contents())\n",
    "\n",
    "k.jump(1, 0)\n",
    "k.jump(1, 0)\n",
    "k.jump(1, 0)\n",
    "print(k)\n"
   ]
  },
  {
   "cell_type": "markdown",
   "id": "0a5d787b",
   "metadata": {},
   "source": [
    "Question 4"
   ]
  },
  {
   "cell_type": "code",
   "execution_count": 15,
   "id": "cf855f28",
   "metadata": {},
   "outputs": [
    {
     "name": "stdout",
     "output_type": "stream",
     "text": [
      "1\n",
      "10\n",
      "5\n",
      "16\n",
      "8\n",
      "4\n",
      "2\n",
      "1\n"
     ]
    }
   ],
   "source": [
    "def collatz(a):\n",
    "    print(a)\n",
    "\n",
    "    if a == 1:\n",
    "        return\n",
    "    elif a % 2 == 0:\n",
    "        collatz(a // 2)\n",
    "    else:\n",
    "        collatz(3 * a + 1)\n",
    "\n",
    "collatz(1)\n",
    "collatz(10)\n"
   ]
  },
  {
   "cell_type": "markdown",
   "id": "e21544fd",
   "metadata": {},
   "source": [
    "Question 5\n",
    "Write a recursive method binary() that takes a non-negativeinteger n and prints the binary representation of integer n"
   ]
  },
  {
   "cell_type": "code",
   "execution_count": 19,
   "id": "4f2205b8",
   "metadata": {},
   "outputs": [
    {
     "name": "stdout",
     "output_type": "stream",
     "text": [
      "0\n",
      "1\n",
      "11\n",
      "1001"
     ]
    }
   ],
   "source": [
    "def binary(n):\n",
    "    if n > 1:\n",
    "        binary(n // 2)  \n",
    "    print(n % 2, end=\"\")  #print remainder\n",
    "\n",
    "\n",
    "binary(0)\n",
    "print()  \n",
    "binary(1)\n",
    "print()\n",
    "binary(3)\n",
    "print()\n",
    "binary(9)\n"
   ]
  },
  {
   "cell_type": "markdown",
   "id": "70910633",
   "metadata": {},
   "source": [
    "Question 6"
   ]
  },
  {
   "cell_type": "code",
   "execution_count": 26,
   "id": "53873a2a",
   "metadata": {},
   "outputs": [
    {
     "name": "stdout",
     "output_type": "stream",
     "text": [
      "W3C Mission\n",
      " Principles\n"
     ]
    }
   ],
   "source": [
    "from html.parser import HTMLParser\n",
    "\n",
    "class HeadingParser(HTMLParser):\n",
    "    def __init__(self):\n",
    "        super().__init__()\n",
    "        self.in_heading = False\n",
    "        self.indentation = 0\n",
    "\n",
    "    def handle_starttag(self, tag, attrs):\n",
    "        if tag.startswith(\"h\") and tag[1:].isdigit():\n",
    "            self.in_heading = True\n",
    "            self.indentation = int(tag[1]) - 1\n",
    "\n",
    "    def handle_endtag(self, tag):\n",
    "        if self.in_heading:\n",
    "            self.in_heading = False\n",
    "            self.indentation = 0\n",
    "\n",
    "    def handle_data(self, data):\n",
    "        if self.in_heading:\n",
    "            print(\" \" * self.indentation + data)\n",
    "\n",
    "\n",
    "infile = open('w3c.txt', 'r', encoding='utf-8')\n",
    "content = infile.read()\n",
    "infile.close()\n",
    "hp = HeadingParser()\n",
    "hp.feed(content)\n"
   ]
  },
  {
   "cell_type": "markdown",
   "id": "fdd1ebc4",
   "metadata": {},
   "source": [
    "Question 9"
   ]
  },
  {
   "cell_type": "markdown",
   "id": "a1c3aec2",
   "metadata": {},
   "source": [
    "A) For the uppercase"
   ]
  },
  {
   "cell_type": "code",
   "execution_count": 30,
   "id": "7f803608",
   "metadata": {},
   "outputs": [
    {
     "name": "stdout",
     "output_type": "stream",
     "text": [
      "['THE', 'QUICK', 'BROWN', 'FOX', 'JUMPS', 'OVER', 'THE', 'LAZY', 'DOG']\n"
     ]
    }
   ],
   "source": [
    "words = ['The', 'quick', 'brown', 'fox', 'jumps', 'over', 'the', 'lazy', 'dog']\n",
    "upper_words = [word.upper() for word in words]\n",
    "print(upper_words)\n"
   ]
  },
  {
   "cell_type": "markdown",
   "id": "df0f16c6",
   "metadata": {},
   "source": [
    "B) For the lowercase"
   ]
  },
  {
   "cell_type": "code",
   "execution_count": 31,
   "id": "0b707cc6",
   "metadata": {},
   "outputs": [
    {
     "name": "stdout",
     "output_type": "stream",
     "text": [
      "['the', 'quick', 'brown', 'fox', 'jumps', 'over', 'the', 'lazy', 'dog']\n"
     ]
    }
   ],
   "source": [
    "lower_words = [word.lower() for word in words]\n",
    "print(lower_words)\n"
   ]
  },
  {
   "cell_type": "markdown",
   "id": "893b12e4",
   "metadata": {},
   "source": [
    "C) For the length of word"
   ]
  },
  {
   "cell_type": "code",
   "execution_count": 32,
   "id": "df0f6b30",
   "metadata": {},
   "outputs": [
    {
     "name": "stdout",
     "output_type": "stream",
     "text": [
      "[3, 5, 5, 3, 5, 4, 3, 4, 3]\n"
     ]
    }
   ],
   "source": [
    "word_lengths = [len(word) for word in words]\n",
    "print(word_lengths)\n"
   ]
  },
  {
   "cell_type": "markdown",
   "id": "c6df70df",
   "metadata": {},
   "source": [
    "D) For the words which contains uppercase,lowercase and length"
   ]
  },
  {
   "cell_type": "code",
   "execution_count": 33,
   "id": "3e96ef16",
   "metadata": {},
   "outputs": [
    {
     "name": "stdout",
     "output_type": "stream",
     "text": [
      "[['THE', 'the', 3], ['QUICK', 'quick', 5], ['BROWN', 'brown', 5], ['FOX', 'fox', 3], ['JUMPS', 'jumps', 5], ['OVER', 'over', 4], ['THE', 'the', 3], ['LAZY', 'lazy', 4], ['DOG', 'dog', 3]]\n"
     ]
    }
   ],
   "source": [
    "word_info = [[word.upper(), word.lower(), len(word)] for word in words]\n",
    "print(word_info)\n"
   ]
  },
  {
   "cell_type": "markdown",
   "id": "62cb3b0c",
   "metadata": {},
   "source": [
    "E) For the all word which contains 4 or more characters"
   ]
  },
  {
   "cell_type": "code",
   "execution_count": 34,
   "id": "66aa04b8",
   "metadata": {},
   "outputs": [
    {
     "name": "stdout",
     "output_type": "stream",
     "text": [
      "['quick', 'brown', 'jumps', 'over', 'lazy']\n"
     ]
    }
   ],
   "source": [
    "long_words = [word for word in words if len(word) >= 4]\n",
    "print(long_words)\n"
   ]
  },
  {
   "cell_type": "code",
   "execution_count": null,
   "id": "ca84ce9d",
   "metadata": {},
   "outputs": [],
   "source": []
  }
 ],
 "metadata": {
  "kernelspec": {
   "display_name": "Python 3 (ipykernel)",
   "language": "python",
   "name": "python3"
  },
  "language_info": {
   "codemirror_mode": {
    "name": "ipython",
    "version": 3
   },
   "file_extension": ".py",
   "mimetype": "text/x-python",
   "name": "python",
   "nbconvert_exporter": "python",
   "pygments_lexer": "ipython3",
   "version": "3.11.4"
  }
 },
 "nbformat": 4,
 "nbformat_minor": 5
}
